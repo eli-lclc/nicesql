{
 "cells": [
  {
   "cell_type": "markdown",
   "metadata": {},
   "source": [
    "# Examples"
   ]
  },
  {
   "cell_type": "markdown",
   "metadata": {},
   "source": [
    "## Import Statement"
   ]
  },
  {
   "cell_type": "code",
   "execution_count": null,
   "metadata": {},
   "outputs": [],
   "source": [
    "from nice_sql import Queries, JAC_IDHS"
   ]
  },
  {
   "cell_type": "markdown",
   "metadata": {},
   "source": [
    "## Queries"
   ]
  },
  {
   "cell_type": "markdown",
   "metadata": {},
   "source": [
    "Queries creates an object (q in the example below) which uses stints.classify_by_program after setting it up in your chosen timeframe"
   ]
  },
  {
   "cell_type": "code",
   "execution_count": null,
   "metadata": {},
   "outputs": [],
   "source": [
    "q = Queries(t1 = '2023-01-01', t2='2023-12-31', \n",
    "            print_SQL=True, clipboard=True)\n"
   ]
  },
  {
   "cell_type": "markdown",
   "metadata": {},
   "source": [
    "to run a pre-defined function on q, just write q.function_name . \n",
    "For instance, to find the number of clients rearrested in a time period you can run:"
   ]
  },
  {
   "cell_type": "code",
   "execution_count": null,
   "metadata": {},
   "outputs": [],
   "source": [
    "q.legal_rearrested(timeframe=True)"
   ]
  },
  {
   "cell_type": "markdown",
   "metadata": {},
   "source": [
    "it's also easy to keep using python if you want to write a SQL function on the spot. \n",
    "just use the format: q.query_run(f'''[standard sql function]''').\n",
    "For instance, to find the number of participants active at this time:"
   ]
  },
  {
   "cell_type": "code",
   "execution_count": null,
   "metadata": {},
   "outputs": [],
   "source": [
    "q.query_run(f'''SELECT COUNT (distinct participant_id) \n",
    "            from stints.classify_by_program''')"
   ]
  },
  {
   "cell_type": "markdown",
   "metadata": {},
   "source": [
    "## Specific Grants"
   ]
  },
  {
   "cell_type": "markdown",
   "metadata": {},
   "source": [
    "Grants often ask the same set of questions about clients who are active on their grant.\n",
    "We can write a class for a given grant which includes relevant functions.\n",
    "For instance:"
   ]
  },
  {
   "cell_type": "code",
   "execution_count": null,
   "metadata": {},
   "outputs": [],
   "source": [
    "j = JAC_IDHS(t1='2023-10-01', t2='2023-12-31', \n",
    "            print_SQL=True, clipboard=True, grant='jac')"
   ]
  },
  {
   "cell_type": "markdown",
   "metadata": {},
   "source": [
    "j inherits traits from the Queries class, so it can run the same functions as q. but it can also run functions that are only relevant to JAC grants.\n",
    "If you wanted to find the average number of sessions a client with jac case management had: "
   ]
  },
  {
   "cell_type": "code",
   "execution_count": null,
   "metadata": {},
   "outputs": [],
   "source": [
    "j.jac_cm_sessions()"
   ]
  },
  {
   "cell_type": "markdown",
   "metadata": {},
   "source": [
    "Since grants usually ask the same questions, it can be annoying to rerun each query individually.\n",
    "So I've made a handful of pre-written reports which run the set of queries and merge them into one big copy-pastable dataframe.\n",
    "\n",
    "The reports can be found within nice_sql, and are a pretty easy format to replicate.\n",
    "To run a report, use the run_report function, and call the object's predefined report."
   ]
  },
  {
   "cell_type": "code",
   "execution_count": null,
   "metadata": {},
   "outputs": [],
   "source": [
    "j.run_report(j.JAC_Smartsheet)"
   ]
  }
 ],
 "metadata": {
  "kernelspec": {
   "display_name": ".venv",
   "language": "python",
   "name": "python3"
  },
  "language_info": {
   "codemirror_mode": {
    "name": "ipython",
    "version": 3
   },
   "file_extension": ".py",
   "mimetype": "text/x-python",
   "name": "python",
   "nbconvert_exporter": "python",
   "pygments_lexer": "ipython3",
   "version": "3.11.4"
  }
 },
 "nbformat": 4,
 "nbformat_minor": 2
}
